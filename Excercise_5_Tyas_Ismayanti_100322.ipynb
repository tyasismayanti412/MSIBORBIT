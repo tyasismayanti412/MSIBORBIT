{
  "nbformat": 4,
  "nbformat_minor": 0,
  "metadata": {
    "colab": {
      "name": "Excercise 5_Tyas Ismayanti_100322.ipynb",
      "provenance": [],
      "collapsed_sections": [],
      "authorship_tag": "ABX9TyOOks0TuJU1kF7EGduZGX/C",
      "include_colab_link": true
    },
    "kernelspec": {
      "name": "python3",
      "display_name": "Python 3"
    },
    "language_info": {
      "name": "python"
    }
  },
  "cells": [
    {
      "cell_type": "markdown",
      "metadata": {
        "id": "view-in-github",
        "colab_type": "text"
      },
      "source": [
        "<a href=\"https://colab.research.google.com/github/tyasismayanti412/MSIBORBIT/blob/main/Excercise_5_Tyas_Ismayanti_100322.ipynb\" target=\"_parent\"><img src=\"https://colab.research.google.com/assets/colab-badge.svg\" alt=\"Open In Colab\"/></a>"
      ]
    },
    {
      "cell_type": "markdown",
      "source": [
        "Nama: Tyas Ismayanti <br>\n",
        "NIM : 5302419038 <br>\n",
        "Prodi : Pendidikan Teknik Informatika dan Komputer UNNES"
      ],
      "metadata": {
        "id": "UxxLw71OcfWM"
      }
    },
    {
      "cell_type": "code",
      "source": [
        "#Program Penghitung Gaji Karyawan dengan Input\n",
        "\n",
        "def golongan_1(gaji_pokok=15000000, overtime=0):\n",
        "    \"\"\"Menghitung upah golongan 1, keyword default\"\"\"\n",
        "    tunjangan = gaji_pokok*0.15\n",
        "    upah_kotor = gaji_pokok + tunjangan + overtime\n",
        "    potongan = 0.02*upah_kotor\n",
        "    upah_bersih = upah_kotor - potongan\n",
        "    print('Upah Bersih Anda :', upah_bersih)\n",
        "\n",
        "def golongan_2(gaji_pokok=7500000, overtime=150000):\n",
        "    \"\"\"Menghitung upah golongan 1, keyword default\"\"\"\n",
        "    ovt = int(input('Berapa jam overtime Anda = '))\n",
        "    total_ovt = overtime*ovt\n",
        "    tunjangan = gaji_pokok*0.10\n",
        "    upah_kotor = gaji_pokok + tunjangan + total_ovt\n",
        "    potongan = 0.02*upah_kotor\n",
        "    upah_bersih = upah_kotor - potongan\n",
        "    print('Upah Bersih Anda :', upah_bersih)\n",
        "\n",
        "def golongan_3(gaji_pokok=5000000, overtime=100000):\n",
        "    \"\"\"Menghitung upah golongan 1, keyword default\"\"\"\n",
        "    ovt = int(input('Berapa jam overtime Anda = '))\n",
        "    total_ovt = overtime*ovt\n",
        "    tunjangan = gaji_pokok*0.05\n",
        "    upah_kotor = gaji_pokok + tunjangan + total_ovt\n",
        "    potongan = 0.02*upah_kotor\n",
        "    upah_bersih = upah_kotor - potongan\n",
        "    print('Upah Bersih Anda :', upah_bersih)\n",
        "    \n",
        "\n",
        "while True:\n",
        "  menu = int(input('Pilih golongan Anda = '))\n",
        "\n",
        "  if menu==1:\n",
        "      golongan_1()\n",
        "      break\n",
        "  elif menu==2:\n",
        "      golongan_2()\n",
        "      break\n",
        "  elif menu==3:\n",
        "      golongan_3()\n",
        "      break\n",
        "  else:\n",
        "      print('\\n Menu tidak ada')\n",
        "      break"
      ],
      "metadata": {
        "colab": {
          "base_uri": "https://localhost:8080/"
        },
        "id": "LepmrUjlIS0x",
        "outputId": "0373f9d4-c920-42de-f841-6c65085574aa"
      },
      "execution_count": null,
      "outputs": [
        {
          "output_type": "stream",
          "name": "stdout",
          "text": [
            "Pilih golongan Anda = 3\n",
            "Berapa jam overtime Anda = 10\n",
            "Upah Bersih Anda : 6125000.0\n"
          ]
        }
      ]
    },
    {
      "cell_type": "code",
      "source": [
        "#Program Penghitung Gaji Karyawan secara default\n",
        "\n",
        "print('DATA GAJI KARYAWAN')\n",
        "print('\\n')\n",
        "def cetak_garis():\n",
        "    print('-' * 20)\n",
        "\n",
        "nama = ['Anna', 'Dimas', 'Sriyono', 'Oky', 'Wati', 'Yayan']\n",
        "gol = [2, 3, 1, 2, 1, 3]\n",
        "ovt = (10, 15, 3, 8, 6, 17)\n",
        "\n",
        "def upah_kotor(gaji_kotor, tunjangan, gaji_overtime):\n",
        "    upah = gaji_kotor + tunjangan + gaji_overtime\n",
        "    return upah\n",
        "\n",
        "def upah_bersih(gaji_pokok, tunjangan, gaji_overtime):\n",
        "    total_upah_kotor = upah_kotor(gaji_pokok, tunjangan, gaji_overtime)\n",
        "    potongan = total_upah_kotor * 0.02\n",
        "    upah_bersih = total_upah_kotor - potongan\n",
        "    return upah_bersih\n",
        "\n",
        "\n",
        "for x, y, z in zip(nama, gol, ovt):\n",
        "    if y == 1:\n",
        "        gaji = upah_bersih(15000000, 15000000*0.15, 0)\n",
        "        print(f'Nama Karyawan : {x} \\nGolongan : {y} \\nOvertime : {z} \\nUpah bersih : Rp.', gaji)\n",
        "        cetak_garis()\n",
        "    elif y == 2:\n",
        "        gaji = upah_bersih(7500000, 7500000*0.10, 150000*z)\n",
        "        print(f'Nama Karyawan : {x} \\nGolongan : {y} \\nOvertime : {z} \\nUpah bersih : Rp.', gaji)\n",
        "        cetak_garis()\n",
        "    elif y == 3:\n",
        "        gaji = upah_bersih(5000000, 5000000*0.05, 100000*z)\n",
        "        print(f'Nama Karyawan : {x} \\nGolongan : {y} \\nOvertime : {z} \\nUpah bersih : Rp.', gaji)\n",
        "        cetak_garis()"
      ],
      "metadata": {
        "id": "89TATzRyLrK8",
        "colab": {
          "base_uri": "https://localhost:8080/"
        },
        "outputId": "f38cda63-ddc4-4239-d093-1cdbb1d002a2"
      },
      "execution_count": null,
      "outputs": [
        {
          "output_type": "stream",
          "name": "stdout",
          "text": [
            "DATA GAJI KARYAWAN\n",
            "\n",
            "\n",
            "Nama Karyawan : Anna \n",
            "Golongan : 2 \n",
            "Overtime : 10 \n",
            "Upah bersih : Rp. 9555000.0\n",
            "--------------------\n",
            "Nama Karyawan : Dimas \n",
            "Golongan : 3 \n",
            "Overtime : 15 \n",
            "Upah bersih : Rp. 6615000.0\n",
            "--------------------\n",
            "Nama Karyawan : Sriyono \n",
            "Golongan : 1 \n",
            "Overtime : 3 \n",
            "Upah bersih : Rp. 16905000.0\n",
            "--------------------\n",
            "Nama Karyawan : Oky \n",
            "Golongan : 2 \n",
            "Overtime : 8 \n",
            "Upah bersih : Rp. 9261000.0\n",
            "--------------------\n",
            "Nama Karyawan : Wati \n",
            "Golongan : 1 \n",
            "Overtime : 6 \n",
            "Upah bersih : Rp. 16905000.0\n",
            "--------------------\n",
            "Nama Karyawan : Yayan \n",
            "Golongan : 3 \n",
            "Overtime : 17 \n",
            "Upah bersih : Rp. 6811000.0\n",
            "--------------------\n"
          ]
        }
      ]
    },
    {
      "cell_type": "code",
      "source": [
        "#Program Lambda Kelipatan Tanggal Lahir\n",
        "\n",
        "tanggal = [(lambda x : x*4)(x) for x in range(1,31)]\n",
        "print('List Kelipatan tanggal lahir :', tanggal)"
      ],
      "metadata": {
        "colab": {
          "base_uri": "https://localhost:8080/"
        },
        "id": "wmv1IhgYcICE",
        "outputId": "9bc07327-10fd-4f1f-fe7b-d1990e2ce569"
      },
      "execution_count": null,
      "outputs": [
        {
          "output_type": "stream",
          "name": "stdout",
          "text": [
            "List Kelipatan tanggal lahir : [4, 8, 12, 16, 20, 24, 28, 32, 36, 40, 44, 48, 52, 56, 60, 64, 68, 72, 76, 80, 84, 88, 92, 96, 100, 104, 108, 112, 116, 120]\n"
          ]
        }
      ]
    },
    {
      "cell_type": "code",
      "source": [
        "#Program Pemisah Bilangan Ganjil Genap\n",
        "\n",
        "bilangan = [-1, -3, 2, 4, 5, 6, 8, 9, 10, 22, 25, 23, 74, 101] #list angka\n",
        "\n",
        "bil_ganjil = list(filter(lambda x: x%2 != 0, bilangan))\n",
        "bil_genap = list(filter(lambda x: x%2 == 0, bilangan))\n",
        "\n",
        "print('Angka Ganjil :', bil_ganjil)\n",
        "print('Angka Genap :', bil_genap)"
      ],
      "metadata": {
        "id": "pMyYMn_qTjqg",
        "colab": {
          "base_uri": "https://localhost:8080/"
        },
        "outputId": "bd05c5da-c783-475d-d5bd-81507381d972"
      },
      "execution_count": null,
      "outputs": [
        {
          "output_type": "stream",
          "name": "stdout",
          "text": [
            "Angka Ganjil : [-1, -3, 5, 9, 25, 23, 101]\n",
            "Angka Genap : [2, 4, 6, 8, 10, 22, 74]\n"
          ]
        }
      ]
    }
  ]
}